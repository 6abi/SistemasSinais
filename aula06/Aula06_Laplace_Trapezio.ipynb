{
  "nbformat": 4,
  "nbformat_minor": 0,
  "metadata": {
    "kernelspec": {
      "display_name": "Python 3",
      "language": "python",
      "name": "python3"
    },
    "language_info": {
      "codemirror_mode": {
        "name": "ipython",
        "version": 3
      },
      "file_extension": ".py",
      "mimetype": "text/x-python",
      "name": "python",
      "nbconvert_exporter": "python",
      "pygments_lexer": "ipython3",
      "version": "3.7.6"
    },
    "colab": {
      "name": "Aula06_Laplace_Trapezio.ipynb",
      "provenance": [],
      "collapsed_sections": []
    }
  },
  "cells": [
    {
      "cell_type": "markdown",
      "metadata": {
        "id": "2SeQCmPquLK8"
      },
      "source": [
        "# Clique em \"Ambiente de execução --> executar tudo\""
      ]
    },
    {
      "cell_type": "markdown",
      "metadata": {
        "id": "GEu9yVUx4yJ0"
      },
      "source": [
        "Bárbara Cardoso e Vinicius Lima\n"
      ]
    },
    {
      "cell_type": "code",
      "metadata": {
        "id": "TStQ3GIkHn-4"
      },
      "source": [
        "import matplotlib.pyplot as plt\n",
        "import sympy\n",
        "import numpy as np\n",
        "from  sympy import  Symbol\n",
        "# from sympy.abc import s, t, c, m, k\n",
        "from math import e, sqrt, sin\n",
        "sympy.init_printing()"
      ],
      "execution_count": null,
      "outputs": []
    },
    {
      "cell_type": "markdown",
      "metadata": {
        "id": "M-M2dtQDtIxN"
      },
      "source": [
        "# Digite o tempo para continuar a execução do programa"
      ]
    },
    {
      "cell_type": "code",
      "metadata": {
        "colab": {
          "base_uri": "https://localhost:8080/"
        },
        "id": "uDsfBEn-reGL",
        "outputId": "4f600763-ce57-49e5-a9de-c3cf3e347b52"
      },
      "source": [
        "t_final = int(input(\"Digite o tempo em segundos: \"))"
      ],
      "execution_count": null,
      "outputs": [
        {
          "output_type": "stream",
          "text": [
            "Digite o tempo em segundos: 2\n"
          ],
          "name": "stdout"
        }
      ]
    },
    {
      "cell_type": "code",
      "metadata": {
        "id": "tleA_m3Sp42E"
      },
      "source": [
        "def main():\n",
        "    #****passa os valores para calculo****\n",
        "    # n passos, intervalo e valor de t\n",
        "    n = 1000\n",
        "    dt = float(t_final) / n\n",
        "    tempo = [dt * i for i in range(n)]\n",
        "\n",
        "    # valores para h(t) e x(t)\n",
        "    h_t = hT(tempo)\n",
        "    x_t = xT(tempo)\n",
        "\n",
        "\n",
        "    # Cálculo método Trapézio\n",
        "    trapezio = calculoTrapezio(x_t, h_t, dt)\n",
        "\n",
        "    #gráfico\n",
        "    grafico(trapezio, tempo, \"Plotagem usando metódo do Trapézio\")\n"
      ],
      "execution_count": null,
      "outputs": []
    },
    {
      "cell_type": "markdown",
      "metadata": {
        "id": "5FVxfdjVo2LS"
      },
      "source": [
        "# Cáculo usando a transformada de laplace e plotagem do gráfico"
      ]
    },
    {
      "cell_type": "code",
      "metadata": {
        "id": "GbEFgoZ8MX6W"
      },
      "source": [
        "#simbolos\n",
        "t, s = sympy.symbols('t, s')\n",
        "a = sympy.symbols('a', real=True, positive=True)\n",
        "u = sympy.Function('u')\n",
        "y = sympy.Function('y')"
      ],
      "execution_count": null,
      "outputs": []
    },
    {
      "cell_type": "code",
      "metadata": {
        "id": "jpPKPoisHn-5"
      },
      "source": [
        "#sinal entrada\n",
        "f = t*sympy.exp(-a*t)\n",
        "F = sympy.laplace_transform(f, t, s, noconds=True)"
      ],
      "execution_count": null,
      "outputs": []
    },
    {
      "cell_type": "code",
      "metadata": {
        "colab": {
          "base_uri": "https://localhost:8080/",
          "height": 90
        },
        "id": "SRUCyvdCgY24",
        "outputId": "95a3495f-d98a-41a1-9325-07cd6dfcd492"
      },
      "source": [
        "#integral - sinal entrada\n",
        "sympy.integrate(f*sympy.exp(-s*t), (t, 0, sympy.oo))"
      ],
      "execution_count": null,
      "outputs": [
        {
          "output_type": "execute_result",
          "data": {
            "text/latex": "$\\displaystyle \\begin{cases} \\frac{1}{s^{2} \\left(\\frac{a}{s} + 1\\right)^{2}} & \\text{for}\\: \\left|{\\arg{\\left(s \\right)}}\\right| \\leq \\frac{\\pi}{2} \\\\\\int\\limits_{0}^{\\infty} t e^{- a t} e^{- s t}\\, dt & \\text{otherwise} \\end{cases}$",
            "text/plain": [
              "⎧        1                          π\n",
              "⎪   ───────────      for │arg(s)│ ≤ ─\n",
              "⎪             2                     2\n",
              "⎪    2 ⎛a    ⎞                       \n",
              "⎪   s ⋅⎜─ + 1⎟                       \n",
              "⎪      ⎝s    ⎠                       \n",
              "⎨                                    \n",
              "⎪∞                                   \n",
              "⎪⌠                                   \n",
              "⎪⎮    -a⋅t  -s⋅t                     \n",
              "⎪⎮ t⋅ℯ    ⋅ℯ     dt     otherwise    \n",
              "⎪⌡                                   \n",
              "⎩0                                   "
            ]
          },
          "metadata": {
            "tags": []
          },
          "execution_count": 451
        }
      ]
    },
    {
      "cell_type": "code",
      "metadata": {
        "id": "gr2Njna_Hn-6"
      },
      "source": [
        "#transformada\n",
        "def L(f):\n",
        "    return sympy.laplace_transform(f, t, s, noconds=True)"
      ],
      "execution_count": null,
      "outputs": []
    },
    {
      "cell_type": "code",
      "metadata": {
        "id": "Ip6quKu4Hn-7"
      },
      "source": [
        "#transformada inversa\n",
        "def invL(F):\n",
        "    return sympy.inverse_laplace_transform(F, s, t)"
      ],
      "execution_count": null,
      "outputs": []
    },
    {
      "cell_type": "code",
      "metadata": {
        "id": "8CWheM-BHn-7"
      },
      "source": [
        "#função unitaria e expressão( EDO)\n",
        "u = -1\n"
      ],
      "execution_count": null,
      "outputs": []
    },
    {
      "cell_type": "code",
      "metadata": {
        "colab": {
          "base_uri": "https://localhost:8080/",
          "height": 68
        },
        "id": "WkZ69YxIHn-7",
        "outputId": "da66d16f-e8be-47ec-b28b-29553e69add6"
      },
      "source": [
        "#expressão, u, transformada\n",
        "f,u, F"
      ],
      "execution_count": null,
      "outputs": [
        {
          "output_type": "execute_result",
          "data": {
            "image/png": "[encoded data removed]",
            "text/latex": "$\\displaystyle \\left( t e^{- a t}, \\  -1, \\  \\frac{1}{\\left(a + s\\right)^{2}}\\right)$",
            "text/plain": [
              "⎛   -a⋅t         1    ⎞\n",
              "⎜t⋅ℯ    , -1, ────────⎟\n",
              "⎜                    2⎟\n",
              "⎝             (a + s) ⎠"
            ]
          },
          "metadata": {
            "tags": []
          },
          "execution_count": 455
        }
      ]
    },
    {
      "cell_type": "code",
      "metadata": {
        "colab": {
          "base_uri": "https://localhost:8080/",
          "height": 58
        },
        "id": "MAySr1zjbGt7",
        "outputId": "d5927872-4a6c-42d7-c049-74dbaa83fe47"
      },
      "source": [
        "#Transformada\n",
        "L(f)"
      ],
      "execution_count": null,
      "outputs": [
        {
          "output_type": "execute_result",
          "data": {
            "image/png": "[encoded data removed]",
            "text/latex": "$\\displaystyle \\frac{1}{\\left(a + s\\right)^{2}}$",
            "text/plain": [
              "   1    \n",
              "────────\n",
              "       2\n",
              "(a + s) "
            ]
          },
          "metadata": {
            "tags": []
          },
          "execution_count": 456
        }
      ]
    },
    {
      "cell_type": "code",
      "metadata": {
        "colab": {
          "base_uri": "https://localhost:8080/",
          "height": 38
        },
        "id": "LxlTSsj9Hn-8",
        "outputId": "e127a058-569a-44f9-e549-bfbffe2e3874"
      },
      "source": [
        "#transformação inversa\n",
        "invL(L(f))"
      ],
      "execution_count": null,
      "outputs": [
        {
          "output_type": "execute_result",
          "data": {
            "image/png": "[encoded data removed]",
            "text/latex": "$\\displaystyle t e^{- a t} \\theta\\left(t\\right)$",
            "text/plain": [
              "   -a⋅t     \n",
              "t⋅ℯ    ⋅θ(t)"
            ]
          },
          "metadata": {
            "tags": []
          },
          "execution_count": 457
        }
      ]
    },
    {
      "cell_type": "code",
      "metadata": {
        "colab": {
          "base_uri": "https://localhost:8080/",
          "height": 38
        },
        "id": "fz2Dn34TiN4R",
        "outputId": "e7e76b50-4361-4ec9-f8f1-56a7c972af6e"
      },
      "source": [
        "#passo\n",
        "sympy.Heaviside(t)"
      ],
      "execution_count": null,
      "outputs": [
        {
          "output_type": "execute_result",
          "data": {
            "image/png": "[encoded data removed]",
            "text/latex": "$\\displaystyle \\theta\\left(t\\right)$",
            "text/plain": [
              "θ(t)"
            ]
          },
          "metadata": {
            "tags": []
          },
          "execution_count": 458
        }
      ]
    },
    {
      "cell_type": "code",
      "metadata": {
        "colab": {
          "base_uri": "https://localhost:8080/",
          "height": 58
        },
        "id": "IQpHYVkkNsTk",
        "outputId": "520c03d9-44e9-4b15-d358-4a0ec003615f"
      },
      "source": [
        "#expressão transformada Laplace\n",
        "Y = sympy.Function('Ys')\n",
        "Y = 1 / (a + s)**2\n",
        "Y"
      ],
      "execution_count": null,
      "outputs": [
        {
          "output_type": "execute_result",
          "data": {
            "image/png": "[encoded data removed]",
            "text/latex": "$\\displaystyle \\frac{1}{\\left(a + s\\right)^{2}}$",
            "text/plain": [
              "   1    \n",
              "────────\n",
              "       2\n",
              "(a + s) "
            ]
          },
          "metadata": {
            "tags": []
          },
          "execution_count": 459
        }
      ]
    },
    {
      "cell_type": "code",
      "metadata": {
        "colab": {
          "base_uri": "https://localhost:8080/",
          "height": 297
        },
        "id": "2MKo5b-0ItJR",
        "outputId": "9b501b73-4629-4975-fe91-c9d174cc5b07"
      },
      "source": [
        "#plotagem transformada\n",
        "invL(F).subs({a: 1})\n",
        "p = sympy.plot(Y.subs({a: 1}), Y.subs({a: 1}),\n",
        "               xlim=(-1, t_final), ylim=(0, 9), show=False)\n",
        "p[1].line_color = 'red'\n",
        "\n",
        "p.show()"
      ],
      "execution_count": null,
      "outputs": [
        {
          "output_type": "display_data",
          "data": {
            "image/png": "[encoded data removed]",
            "text/plain": [
              "<Figure size 432x288 with 1 Axes>"
            ]
          },
          "metadata": {
            "tags": [],
            "needs_background": "light"
          }
        }
      ]
    },
    {
      "cell_type": "code",
      "metadata": {
        "colab": {
          "base_uri": "https://localhost:8080/",
          "height": 297
        },
        "id": "N7HEiUx9PqmN",
        "outputId": "691ed942-c68f-419d-c12f-5bd2026930bf"
      },
      "source": [
        "#plotagem transformada inversa\n",
        "p = sympy.plot(f.subs({a: 1}), invL(Y).subs({a: 1}),\n",
        "               xlim=(-1, t_final), ylim=(0, 1), show=False)\n",
        "p[1].line_color = 'red'\n",
        "p.show()"
      ],
      "execution_count": null,
      "outputs": [
        {
          "output_type": "display_data",
          "data": {
            "image/png": "[encoded data removed]",
            "text/plain": [
              "<Figure size 432x288 with 1 Axes>"
            ]
          },
          "metadata": {
            "tags": [],
            "needs_background": "light"
          }
        }
      ]
    },
    {
      "cell_type": "markdown",
      "metadata": {
        "id": "WnfjfN5fpAZG"
      },
      "source": [
        "# Cálculo usando integral númerica pelo método do trapézio"
      ]
    },
    {
      "cell_type": "code",
      "metadata": {
        "id": "PKp0wYAElQv7"
      },
      "source": [
        "#sinal de entrada x(t)\n",
        "def xT(tempo):\n",
        "    y2 = []\n",
        "    for t in tempo:\n",
        "        x = t*e**-t\n",
        "        y2.append(x)\n",
        "    return y2\n",
        "\n",
        "\n"
      ],
      "execution_count": null,
      "outputs": []
    },
    {
      "cell_type": "code",
      "metadata": {
        "colab": {
          "base_uri": "https://localhost:8080/",
          "height": 53
        },
        "id": "u9RDoHhzlwFH",
        "outputId": "0a9a9de1-1e54-4fc9-b336-6cd7514b39ab"
      },
      "source": [
        "#resposta do impulso h(s)\n",
        "ht = 1 / (2+ 2*s + s**2)\n",
        "ht"
      ],
      "execution_count": null,
      "outputs": [
        {
          "output_type": "execute_result",
          "data": {
            "image/png": "[encoded data removed]",
            "text/latex": "$\\displaystyle \\frac{1}{s^{2} + 2 s + 2}$",
            "text/plain": [
              "     1      \n",
              "────────────\n",
              " 2          \n",
              "s  + 2⋅s + 2"
            ]
          },
          "metadata": {
            "tags": []
          },
          "execution_count": 463
        }
      ]
    },
    {
      "cell_type": "code",
      "metadata": {
        "colab": {
          "base_uri": "https://localhost:8080/",
          "height": 38
        },
        "id": "9XM9zknQmsdn",
        "outputId": "f8dd7ae9-e113-4710-ba4b-34b65513c0cb"
      },
      "source": [
        "#resposta do impulso h(t)\n",
        "ht_tempo = invL(ht)\n",
        "ht_tempo"
      ],
      "execution_count": null,
      "outputs": [
        {
          "output_type": "execute_result",
          "data": {
            "image/png": "[encoded data removed]",
            "text/latex": "$\\displaystyle e^{- t} \\sin{\\left(t \\right)} \\theta\\left(t\\right)$",
            "text/plain": [
              " -t            \n",
              "ℯ  ⋅sin(t)⋅θ(t)"
            ]
          },
          "metadata": {
            "tags": []
          },
          "execution_count": 464
        }
      ]
    },
    {
      "cell_type": "code",
      "metadata": {
        "id": "jhVC6-hNmmaK"
      },
      "source": [
        "def hT(tempo):\n",
        "    y1 = []\n",
        "    for t in tempo:\n",
        "        x = e**(-t) * sin(t)\n",
        "        y1.append(x)\n",
        "    return y1\n"
      ],
      "execution_count": null,
      "outputs": []
    },
    {
      "cell_type": "code",
      "metadata": {
        "id": "4FxOP5t8pfgM"
      },
      "source": [
        "\n",
        "#calculo da integral de convolução - método do trapézio\n",
        "def calculoTrapezio(x_t, h_t, dx = None):\n",
        "    # tamanho do sinal\n",
        "    P = len(h_t)\n",
        "    z = []\n",
        "\n",
        "    # calculo integral\n",
        "    for j in range(P):\n",
        "        t = 0\n",
        "        t_min = max(0, j - (P - 1))\n",
        "        t_max = min(P - 1, j)\n",
        "        for i in range(t_min, t_max):\n",
        "            t += (h_t[i] * x_t[j - i] + h_t[i + 1] * x_t[j - (i + 1)]) / 2\n",
        "        z.append(t)\n",
        "    z = np.array(z)\n",
        "    if dx != None:\n",
        "        z *= dx\n",
        "    return z"
      ],
      "execution_count": null,
      "outputs": []
    },
    {
      "cell_type": "code",
      "metadata": {
        "id": "yPlfoVsqprWt"
      },
      "source": [
        "def grafico(trapezio, t, titulo):\n",
        "    plt.ioff()\n",
        "    fig = plt.figure(figsize=(14, 12))\n",
        "    plt.title(titulo)\n",
        "    plt.grid(True)\n",
        "    plt.xlabel('t(s)')\n",
        "    plt.ylabel('Y(t)')\n",
        "    plt.plot(t, trapezio, label='Trapézio')\n",
        "    plt.legend()\n",
        "    plt.show()\n"
      ],
      "execution_count": null,
      "outputs": []
    },
    {
      "cell_type": "code",
      "metadata": {
        "colab": {
          "base_uri": "https://localhost:8080/",
          "height": 730
        },
        "id": "4goc6SSH2Fgu",
        "outputId": "54a28fbf-bb7a-44cf-bf4a-f06e2034eb9b"
      },
      "source": [
        "\n",
        "\n",
        "\n",
        "if __name__ == '__main__':\n",
        "    # Cálculo método Trapézio\n",
        "    main()"
      ],
      "execution_count": null,
      "outputs": [
        {
          "output_type": "display_data",
          "data": {
            "image/png": "[encoded data removed]",
            "text/plain": [
              "<Figure size 1008x864 with 1 Axes>"
            ]
          },
          "metadata": {
            "tags": [],
            "needs_background": "light"
          }
        }
      ]
    }
  ]
}
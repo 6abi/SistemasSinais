{
  "nbformat": 4,
  "nbformat_minor": 0,
  "metadata": {
    "kernelspec": {
      "display_name": "Python 3",
      "language": "python",
      "name": "python3"
    },
    "language_info": {
      "codemirror_mode": {
        "name": "ipython",
        "version": 3
      },
      "file_extension": ".py",
      "mimetype": "text/x-python",
      "name": "python",
      "nbconvert_exporter": "python",
      "pygments_lexer": "ipython3",
      "version": "3.7.6"
    },
    "colab": {
      "name": "Aula05_Laplace.ipynb",
      "provenance": [],
      "collapsed_sections": []
    }
  },
  "cells": [
    {
      "cell_type": "code",
      "metadata": {
        "id": "TStQ3GIkHn-4"
      },
      "source": [
        "import matplotlib.pyplot as plt\n",
        "import sympy\n",
        "from  sympy import  Symbol\n",
        "# from sympy.abc import s, t, c, m, k\n",
        "from math import e, sqrt\n",
        "sympy.init_printing()"
      ],
      "execution_count": 313,
      "outputs": []
    },
    {
      "cell_type": "code",
      "metadata": {
        "id": "GbEFgoZ8MX6W"
      },
      "source": [
        "#simbolos\n",
        "t, s, a = sympy.symbols('t, s, a')\n",
        "m = sympy.symbols('m', real=True, positive=True)\n",
        "c = sympy.symbols('c', real=True, positive=True)\n",
        "k = sympy.symbols('k', real=True, positive=True)\n",
        "alfa = sympy.symbols('alfa', real=True, positive=True)\n",
        "omega = sympy.symbols('omega')\n",
        "f_zero = sympy.symbols('f_zero', real=True, positive=True)\n",
        "y = sympy.Function('y')"
      ],
      "execution_count": 314,
      "outputs": []
    },
    {
      "cell_type": "code",
      "metadata": {
        "id": "jpPKPoisHn-5"
      },
      "source": [
        "##definição da expressão( EDO)\n",
        "f = m * y(t).diff(t).diff(t) + c * y(t).diff(t) + k* y(t)\n",
        "F = sympy.laplace_transform(f, t, s, noconds=True)"
      ],
      "execution_count": 315,
      "outputs": []
    },
    {
      "cell_type": "code",
      "metadata": {
        "id": "gr2Njna_Hn-6"
      },
      "source": [
        "#transformada\n",
        "def L(f):\n",
        "    return sympy.laplace_transform(f, t, s, noconds=True)"
      ],
      "execution_count": 316,
      "outputs": []
    },
    {
      "cell_type": "code",
      "metadata": {
        "id": "Ip6quKu4Hn-7"
      },
      "source": [
        "#transformada inversa\n",
        "def invL(F):\n",
        "    return sympy.inverse_laplace_transform(F, s, t)"
      ],
      "execution_count": 317,
      "outputs": []
    },
    {
      "cell_type": "code",
      "metadata": {
        "id": "8CWheM-BHn-7"
      },
      "source": [
        "#função unitaria e expressão( EDO)\n",
        "u = sympy.Function('u')\n",
        "u = 1\n"
      ],
      "execution_count": 318,
      "outputs": []
    },
    {
      "cell_type": "code",
      "metadata": {
        "colab": {
          "base_uri": "https://localhost:8080/",
          "height": 58
        },
        "id": "WkZ69YxIHn-7",
        "outputId": "04dfb2aa-f720-4fe5-add8-80775f786e40"
      },
      "source": [
        "#transformada Laplace separadas (EDO)\n",
        "f,u"
      ],
      "execution_count": 319,
      "outputs": [
        {
          "output_type": "execute_result",
          "data": {
            "image/png": "[encoded data removed]",
            "text/latex": "$\\displaystyle \\left( c \\frac{d}{d t} y{\\left(t \\right)} + k y{\\left(t \\right)} + m \\frac{d^{2}}{d t^{2}} y{\\left(t \\right)}, \\  1\\right)$",
            "text/plain": [
              "⎛                          2         ⎞\n",
              "⎜  d                      d          ⎟\n",
              "⎜c⋅──(y(t)) + k⋅y(t) + m⋅───(y(t)), 1⎟\n",
              "⎜  dt                      2         ⎟\n",
              "⎝                        dt          ⎠"
            ]
          },
          "metadata": {
            "tags": []
          },
          "execution_count": 319
        }
      ]
    },
    {
      "cell_type": "code",
      "metadata": {
        "colab": {
          "base_uri": "https://localhost:8080/",
          "height": 58
        },
        "id": "e3XfctnZHn-8",
        "outputId": "78b307cc-c66d-476b-a91e-85d133b2c4bd"
      },
      "source": [
        "#valores para o calculo\n",
        "Y = (L(f) - f_zero/s)\n",
        "Y.subs({c: 2, f_zero: 3, k: 1, m: 1})\n",
        "\n"
      ],
      "execution_count": 320,
      "outputs": [
        {
          "output_type": "execute_result",
          "data": {
            "image/png": "[encoded data removed]",
            "text/latex": "$\\displaystyle \\mathcal{L}_{t}\\left[y{\\left(t \\right)}\\right]\\left(s\\right) + 2 \\mathcal{L}_{t}\\left[\\frac{d}{d t} y{\\left(t \\right)}\\right]\\left(s\\right) + \\mathcal{L}_{t}\\left[\\frac{d^{2}}{d t^{2}} y{\\left(t \\right)}\\right]\\left(s\\right) - \\frac{3}{s}$",
            "text/plain": [
              "                                                                              \n",
              "                                                 ⎛d             ⎞             \n",
              "LaplaceTransform(y(t), t, s) + 2⋅LaplaceTransform⎜──(y(t)), t, s⎟ + LaplaceTra\n",
              "                                                 ⎝dt            ⎠             \n",
              "                                                                              \n",
              "\n",
              "      ⎛  2            ⎞    \n",
              "      ⎜ d             ⎟   3\n",
              "nsform⎜───(y(t)), t, s⎟ - ─\n",
              "      ⎜  2            ⎟   s\n",
              "      ⎝dt             ⎠    "
            ]
          },
          "metadata": {
            "tags": []
          },
          "execution_count": 320
        }
      ]
    },
    {
      "cell_type": "code",
      "metadata": {
        "colab": {
          "base_uri": "https://localhost:8080/",
          "height": 58
        },
        "id": "LxlTSsj9Hn-8",
        "outputId": "fa229488-9ae4-480e-92b3-400926428fcb"
      },
      "source": [
        "#transformação inversa (EDO)\n",
        "invL(F)"
      ],
      "execution_count": 321,
      "outputs": [
        {
          "output_type": "execute_result",
          "data": {
            "image/png": "[encoded data removed]",
            "text/latex": "$\\displaystyle c \\mathcal{L}^{-1}_{s}\\left[\\mathcal{L}_{t}\\left[\\frac{d}{d t} y{\\left(t \\right)}\\right]\\left(s\\right)\\right]\\left(t\\right) + k \\mathcal{L}^{-1}_{s}\\left[\\mathcal{L}_{t}\\left[y{\\left(t \\right)}\\right]\\left(s\\right)\\right]\\left(t\\right) + m \\mathcal{L}^{-1}_{s}\\left[\\mathcal{L}_{t}\\left[\\frac{d^{2}}{d t^{2}} y{\\left(t \\right)}\\right]\\left(s\\right)\\right]\\left(t\\right)$",
            "text/plain": [
              "                                                                              \n",
              "                         ⎛                ⎛d             ⎞            ⎞       \n",
              "c⋅InverseLaplaceTransform⎜LaplaceTransform⎜──(y(t)), t, s⎟, s, t, None⎟ + k⋅In\n",
              "                         ⎝                ⎝dt            ⎠            ⎠       \n",
              "                                                                              \n",
              "\n",
              "                                                                              \n",
              "                                                                              \n",
              "verseLaplaceTransform(LaplaceTransform(y(t), t, s), s, t, None) + m⋅InverseLap\n",
              "                                                                              \n",
              "                                                                              \n",
              "\n",
              "             ⎛                ⎛  2            ⎞            ⎞\n",
              "             ⎜                ⎜ d             ⎟            ⎟\n",
              "laceTransform⎜LaplaceTransform⎜───(y(t)), t, s⎟, s, t, None⎟\n",
              "             ⎜                ⎜  2            ⎟            ⎟\n",
              "             ⎝                ⎝dt             ⎠            ⎠"
            ]
          },
          "metadata": {
            "tags": []
          },
          "execution_count": 321
        }
      ]
    },
    {
      "cell_type": "code",
      "metadata": {
        "id": "q6aP3Q8rU1YM"
      },
      "source": [
        "#alfa\n",
        "alfa = -c/2*m\n",
        "\n"
      ],
      "execution_count": 322,
      "outputs": []
    },
    {
      "cell_type": "code",
      "metadata": {
        "id": "KrNlvphPU7kN"
      },
      "source": [
        "#omega\n",
        "omega = ((alfa**2) - (k/m))**(1/2)\n"
      ],
      "execution_count": 323,
      "outputs": []
    },
    {
      "cell_type": "code",
      "metadata": {
        "colab": {
          "base_uri": "https://localhost:8080/",
          "height": 56
        },
        "id": "IQpHYVkkNsTk",
        "outputId": "b160fa41-0e3c-4449-d037-a2c49d7b5087"
      },
      "source": [
        "#expressão transformada Laplace t0\n",
        "Y =  sympy.Function('Y')\n",
        "Y = f_zero*m / (k* (m * s**2 + c * s + k))\n",
        "Y"
      ],
      "execution_count": 341,
      "outputs": [
        {
          "output_type": "execute_result",
          "data": {
            "image/png": "[encoded data removed]",
            "text/latex": "$\\displaystyle \\frac{f_{zero} m}{k \\left(c s + k + m s^{2}\\right)}$",
            "text/plain": [
              "     f_zero⋅m     \n",
              "──────────────────\n",
              "  ⎛             2⎞\n",
              "k⋅⎝c⋅s + k + m⋅s ⎠"
            ]
          },
          "metadata": {
            "tags": []
          },
          "execution_count": 341
        }
      ]
    },
    {
      "cell_type": "code",
      "metadata": {
        "colab": {
          "base_uri": "https://localhost:8080/",
          "height": 297
        },
        "id": "2MKo5b-0ItJR",
        "outputId": "03f1fdba-6462-4781-abed-06195062788a"
      },
      "source": [
        "#plotagem transformada\n",
        "\n",
        "p = sympy.plot(Y.subs({m: 50, c: 4, k: 3, f_zero: 1}), Y.subs({m: 50, c: 4, k: 3, f_zero: 1}),\n",
        "               xlim=(-0.001, 3), ylim=(0, 9), show=False)\n",
        "p[1].line_color = 'red'\n",
        "\n",
        "p.show()"
      ],
      "execution_count": 356,
      "outputs": [
        {
          "output_type": "display_data",
          "data": {
            "image/png": "[encoded data removed]",
            "text/plain": [
              "<Figure size 432x288 with 1 Axes>"
            ]
          },
          "metadata": {
            "tags": [],
            "needs_background": "light"
          }
        }
      ]
    },
    {
      "cell_type": "code",
      "metadata": {
        "colab": {
          "base_uri": "https://localhost:8080/",
          "height": 313
        },
        "id": "RgvmVwZySPol",
        "outputId": "86326937-756b-43e8-b924-7084d3471cf8"
      },
      "source": [
        "#unit step function\n",
        "sympy.Heaviside(t)\n",
        "sympy.plot(sympy.Heaviside(t))"
      ],
      "execution_count": 357,
      "outputs": [
        {
          "output_type": "display_data",
          "data": {
            "image/png": "[encoded data removed]",
            "text/plain": [
              "<Figure size 432x288 with 1 Axes>"
            ]
          },
          "metadata": {
            "tags": [],
            "needs_background": "light"
          }
        },
        {
          "output_type": "execute_result",
          "data": {
            "text/plain": [
              "<sympy.plotting.plot.Plot at 0x7f690e346ad0>"
            ]
          },
          "metadata": {
            "tags": []
          },
          "execution_count": 357
        }
      ]
    },
    {
      "cell_type": "code",
      "metadata": {
        "colab": {
          "base_uri": "https://localhost:8080/",
          "height": 58
        },
        "id": "vJsOTxIOTA84",
        "outputId": "55ff4f7c-b7b7-4ea6-922b-10a6a84e69a8"
      },
      "source": [
        "#inversa\n",
        "invL(F).subs({m: 2, c: 3, k: 3, f_zero: 2})"
      ],
      "execution_count": 358,
      "outputs": [
        {
          "output_type": "execute_result",
          "data": {
            "image/png": "[encoded data removed]",
            "text/latex": "$\\displaystyle 3 \\mathcal{L}^{-1}_{s}\\left[\\mathcal{L}_{t}\\left[y{\\left(t \\right)}\\right]\\left(s\\right)\\right]\\left(t\\right) + 3 \\mathcal{L}^{-1}_{s}\\left[\\mathcal{L}_{t}\\left[\\frac{d}{d t} y{\\left(t \\right)}\\right]\\left(s\\right)\\right]\\left(t\\right) + 2 \\mathcal{L}^{-1}_{s}\\left[\\mathcal{L}_{t}\\left[\\frac{d^{2}}{d t^{2}} y{\\left(t \\right)}\\right]\\left(s\\right)\\right]\\left(t\\right)$",
            "text/plain": [
              "                                                                              \n",
              "                                                                              \n",
              "3⋅InverseLaplaceTransform(LaplaceTransform(y(t), t, s), s, t, None) + 3⋅Invers\n",
              "                                                                              \n",
              "                                                                              \n",
              "\n",
              "                                                                              \n",
              "                 ⎛                ⎛d             ⎞            ⎞               \n",
              "eLaplaceTransform⎜LaplaceTransform⎜──(y(t)), t, s⎟, s, t, None⎟ + 2⋅InverseLap\n",
              "                 ⎝                ⎝dt            ⎠            ⎠               \n",
              "                                                                              \n",
              "\n",
              "             ⎛                ⎛  2            ⎞            ⎞\n",
              "             ⎜                ⎜ d             ⎟            ⎟\n",
              "laceTransform⎜LaplaceTransform⎜───(y(t)), t, s⎟, s, t, None⎟\n",
              "             ⎜                ⎜  2            ⎟            ⎟\n",
              "             ⎝                ⎝dt             ⎠            ⎠"
            ]
          },
          "metadata": {
            "tags": []
          },
          "execution_count": 358
        }
      ]
    },
    {
      "cell_type": "code",
      "metadata": {
        "colab": {
          "base_uri": "https://localhost:8080/",
          "height": 297
        },
        "id": "N7HEiUx9PqmN",
        "outputId": "ab6d40bb-9b01-44ae-ad4f-f626c7c9b8c1"
      },
      "source": [
        "#plotagem transformada inversa\n",
        "p = sympy.plot(invL(Y).subs({m: 50, c: 3, k: 3, f_zero: 2}), invL(Y).subs({m: 50, c: 3, k: 3, f_zero: 2}),\n",
        "               xlim=(0, 8), ylim=(0, 9), show=False)\n",
        "p[1].line_color = 'red'\n",
        "p.show()"
      ],
      "execution_count": 362,
      "outputs": [
        {
          "output_type": "display_data",
          "data": {
            "image/png": "[encoded data removed]",
            "text/plain": [
              "<Figure size 432x288 with 1 Axes>"
            ]
          },
          "metadata": {
            "tags": [],
            "needs_background": "light"
          }
        }
      ]
    },
    {
      "cell_type": "code",
      "metadata": {
        "colab": {
          "base_uri": "https://localhost:8080/",
          "height": 38
        },
        "id": "OMBi8q5fQTDB",
        "outputId": "7c1ccdb8-9169-4b34-8e95-2e9f0b1a94ee"
      },
      "source": [
        "#funções tabela\n",
        "omega = sympy.Symbol('omega', real=True)\n",
        "exp = sympy.exp\n",
        "sin = sympy.sin\n",
        "cos = sympy.cos\n",
        "functions = [1,\n",
        "         t,\n",
        "         exp(-a*t),\n",
        "         t*exp(-a*t),\n",
        "         t**2*exp(-a*t),\n",
        "         sin(omega*t),\n",
        "         cos(omega*t),\n",
        "         1 - exp(-a*t),\n",
        "         exp(-a*t)*sin(omega*t),\n",
        "         exp(-a*t)*cos(omega*t),\n",
        "         ]\n",
        "functions"
      ],
      "execution_count": 330,
      "outputs": [
        {
          "output_type": "execute_result",
          "data": {
            "image/png": "[encoded data removed]",
            "text/latex": "$\\displaystyle \\left[ 1, \\  t, \\  e^{- a t}, \\  t e^{- a t}, \\  t^{2} e^{- a t}, \\  \\sin{\\left(\\omega t \\right)}, \\  \\cos{\\left(\\omega t \\right)}, \\  1 - e^{- a t}, \\  e^{- a t} \\sin{\\left(\\omega t \\right)}, \\  e^{- a t} \\cos{\\left(\\omega t \\right)}\\right]$",
            "text/plain": [
              "⎡       -a⋅t     -a⋅t   2  -a⋅t                           -a⋅t   -a⋅t         \n",
              "⎣1, t, ℯ    , t⋅ℯ    , t ⋅ℯ    , sin(ω⋅t), cos(ω⋅t), 1 - ℯ    , ℯ    ⋅sin(ω⋅t)\n",
              "\n",
              "   -a⋅t         ⎤\n",
              ", ℯ    ⋅cos(ω⋅t)⎦"
            ]
          },
          "metadata": {
            "tags": []
          },
          "execution_count": 330
        }
      ]
    },
    {
      "cell_type": "code",
      "metadata": {
        "colab": {
          "base_uri": "https://localhost:8080/",
          "height": 68
        },
        "id": "-CuTY9N4Q-gB",
        "outputId": "32a075ca-28ae-4568-b816-f0007a03edcc"
      },
      "source": [
        "#tabela\n",
        "Fs = [L(f) for f in functions]\n",
        "Fs"
      ],
      "execution_count": 331,
      "outputs": [
        {
          "output_type": "execute_result",
          "data": {
            "image/png": "[encoded data removed]",
            "text/latex": "$\\displaystyle \\left[ \\frac{1}{s}, \\  \\frac{1}{s^{2}}, \\  \\frac{1}{a + s}, \\  \\frac{1}{\\left(a + s\\right)^{2}}, \\  \\frac{2}{\\left(a + s\\right)^{3}}, \\  \\frac{\\omega}{\\omega^{2} + s^{2}}, \\  \\frac{s}{\\omega^{2} + s^{2}}, \\  \\frac{a}{s \\left(a + s\\right)}, \\  \\frac{\\omega}{\\omega^{2} + \\left(a + s\\right)^{2}}, \\  \\frac{a + s}{\\omega^{2} + \\left(a + s\\right)^{2}}\\right]$",
            "text/plain": [
              "⎡1  1     1       1         2         ω        s         a            ω       \n",
              "⎢─, ──, ─────, ────────, ────────, ───────, ───────, ─────────, ─────────────,\n",
              "⎢s   2  a + s         2         3   2    2   2    2  s⋅(a + s)   2          2 \n",
              "⎣   s          (a + s)   (a + s)   ω  + s   ω  + s              ω  + (a + s)  \n",
              "\n",
              "     a + s    ⎤\n",
              " ─────────────⎥\n",
              "  2          2⎥\n",
              " ω  + (a + s) ⎦"
            ]
          },
          "metadata": {
            "tags": []
          },
          "execution_count": 331
        }
      ]
    },
    {
      "cell_type": "code",
      "metadata": {
        "id": "yqUzzwnWREDc"
      },
      "source": [
        "from pandas import DataFrame\n",
        "def makelatex(args):\n",
        "    return [\"$${}$$\".format(sympy.latex(a)) for a in args]"
      ],
      "execution_count": 334,
      "outputs": []
    },
    {
      "cell_type": "code",
      "metadata": {
        "colab": {
          "base_uri": "https://localhost:8080/",
          "height": 343
        },
        "id": "rlu5KFBgRJUE",
        "outputId": "bc6da83e-c779-4fe3-a92f-3d47e1adcd40"
      },
      "source": [
        "DataFrame(list(zip(makelatex(functions), makelatex(Fs))))"
      ],
      "execution_count": 333,
      "outputs": [
        {
          "output_type": "execute_result",
          "data": {
            "text/html": [
              "<div>\n",
              "<style scoped>\n",
              "    .dataframe tbody tr th:only-of-type {\n",
              "        vertical-align: middle;\n",
              "    }\n",
              "\n",
              "    .dataframe tbody tr th {\n",
              "        vertical-align: top;\n",
              "    }\n",
              "\n",
              "    .dataframe thead th {\n",
              "        text-align: right;\n",
              "    }\n",
              "</style>\n",
              "<table border=\"1\" class=\"dataframe\">\n",
              "  <thead>\n",
              "    <tr style=\"text-align: right;\">\n",
              "      <th></th>\n",
              "      <th>0</th>\n",
              "      <th>1</th>\n",
              "    </tr>\n",
              "  </thead>\n",
              "  <tbody>\n",
              "    <tr>\n",
              "      <th>0</th>\n",
              "      <td>$$1$$</td>\n",
              "      <td>$$\\frac{1}{s}$$</td>\n",
              "    </tr>\n",
              "    <tr>\n",
              "      <th>1</th>\n",
              "      <td>$$t$$</td>\n",
              "      <td>$$\\frac{1}{s^{2}}$$</td>\n",
              "    </tr>\n",
              "    <tr>\n",
              "      <th>2</th>\n",
              "      <td>$$e^{- a t}$$</td>\n",
              "      <td>$$\\frac{1}{a + s}$$</td>\n",
              "    </tr>\n",
              "    <tr>\n",
              "      <th>3</th>\n",
              "      <td>$$t e^{- a t}$$</td>\n",
              "      <td>$$\\frac{1}{\\left(a + s\\right)^{2}}$$</td>\n",
              "    </tr>\n",
              "    <tr>\n",
              "      <th>4</th>\n",
              "      <td>$$t^{2} e^{- a t}$$</td>\n",
              "      <td>$$\\frac{2}{\\left(a + s\\right)^{3}}$$</td>\n",
              "    </tr>\n",
              "    <tr>\n",
              "      <th>5</th>\n",
              "      <td>$$\\sin{\\left(\\omega t \\right)}$$</td>\n",
              "      <td>$$\\frac{\\omega}{\\omega^{2} + s^{2}}$$</td>\n",
              "    </tr>\n",
              "    <tr>\n",
              "      <th>6</th>\n",
              "      <td>$$\\cos{\\left(\\omega t \\right)}$$</td>\n",
              "      <td>$$\\frac{s}{\\omega^{2} + s^{2}}$$</td>\n",
              "    </tr>\n",
              "    <tr>\n",
              "      <th>7</th>\n",
              "      <td>$$1 - e^{- a t}$$</td>\n",
              "      <td>$$\\frac{a}{s \\left(a + s\\right)}$$</td>\n",
              "    </tr>\n",
              "    <tr>\n",
              "      <th>8</th>\n",
              "      <td>$$e^{- a t} \\sin{\\left(\\omega t \\right)}$$</td>\n",
              "      <td>$$\\frac{\\omega}{\\omega^{2} + \\left(a + s\\right...</td>\n",
              "    </tr>\n",
              "    <tr>\n",
              "      <th>9</th>\n",
              "      <td>$$e^{- a t} \\cos{\\left(\\omega t \\right)}$$</td>\n",
              "      <td>$$\\frac{a + s}{\\omega^{2} + \\left(a + s\\right)...</td>\n",
              "    </tr>\n",
              "  </tbody>\n",
              "</table>\n",
              "</div>"
            ],
            "text/plain": [
              "                                            0                                                  1\n",
              "0                                       $$1$$                                    $$\\frac{1}{s}$$\n",
              "1                                       $$t$$                                $$\\frac{1}{s^{2}}$$\n",
              "2                               $$e^{- a t}$$                                $$\\frac{1}{a + s}$$\n",
              "3                             $$t e^{- a t}$$               $$\\frac{1}{\\left(a + s\\right)^{2}}$$\n",
              "4                         $$t^{2} e^{- a t}$$               $$\\frac{2}{\\left(a + s\\right)^{3}}$$\n",
              "5            $$\\sin{\\left(\\omega t \\right)}$$              $$\\frac{\\omega}{\\omega^{2} + s^{2}}$$\n",
              "6            $$\\cos{\\left(\\omega t \\right)}$$                   $$\\frac{s}{\\omega^{2} + s^{2}}$$\n",
              "7                           $$1 - e^{- a t}$$                 $$\\frac{a}{s \\left(a + s\\right)}$$\n",
              "8  $$e^{- a t} \\sin{\\left(\\omega t \\right)}$$  $$\\frac{\\omega}{\\omega^{2} + \\left(a + s\\right...\n",
              "9  $$e^{- a t} \\cos{\\left(\\omega t \\right)}$$  $$\\frac{a + s}{\\omega^{2} + \\left(a + s\\right)..."
            ]
          },
          "metadata": {
            "tags": []
          },
          "execution_count": 333
        }
      ]
    }
  ]
}